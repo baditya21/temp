{
 "cells": [
  {
   "cell_type": "markdown",
   "metadata": {},
   "source": [
    "In this kernel, we will try to classify the Iris species using the k-Nearest Neighbors algorithm. We will also find the best parameters for the model using hyperparameter tuning. "
   ]
  },
  {
   "cell_type": "markdown",
   "metadata": {},
   "source": [
    "# Import the libraries\n",
    "Name:Viraj Ravindra Jadhav\n",<br>
    "Roll no.:TETA76\n",
    "Batch:A-4"
   ]
  },
  {
   "cell_type": "code",
   "execution_count": 1,
   "metadata": {
    "_kg_hide-output": true
   },
   "outputs": [
    {
     "name": "stdout",
     "output_type": "stream",
     "text": [
      "/kaggle/input/iris/database.sqlite\n",
      "/kaggle/input/iris/Iris.csv\n"
     ]
    }
   ],
   "source": [
    "# This Python 3 environment comes with many helpful analytics libraries installed\n",
    "# It is defined by the kaggle/python docker image: https://github.com/kaggle/docker-python\n",
    "# For example, here's several helpful packages to load in \n",
    "\n",
    "import numpy as np # linear algebra\n",
    "import pandas as pd # data processing, CSV file I/O (e.g. pd.read_csv)\n",
    "import matplotlib.pyplot as plt\n",
    "import seaborn as sns # for data visualiztions\n",
    "\n",
    "# Input data files are available in the \"../input/\" directory.\n",
    "# For example, running this (by clicking run or pressing Shift+Enter) will list all files under the input directory\n",
    "\n",
    "import os\n",
    "for dirname, _, filenames in os.walk('/kaggle/input'):\n",
    "    for filename in filenames:\n",
    "        print(os.path.join(dirname, filename))\n",
    "\n",
    "# Any results you write to the current directory are saved as output."
   ]
  },
  {
   "cell_type": "code",
   "execution_count": 3,
   "metadata": {},
   "outputs": [
    {
     "data": {
      "text/html": [
       "<div>\n",
       "<style scoped>\n",
       "    .dataframe tbody tr th:only-of-type {\n",
       "        vertical-align: middle;\n",
       "    }\n",
       "\n",
       "    .dataframe tbody tr th {\n",
       "        vertical-align: top;\n",
       "    }\n",
       "\n",
       "    .dataframe thead th {\n",
       "        text-align: right;\n",
       "    }\n",
       "</style>\n",
       "<table border=\"1\" class=\"dataframe\">\n",
       "  <thead>\n",
       "    <tr style=\"text-align: right;\">\n",
       "      <th></th>\n",
       "      <th>Id</th>\n",
       "      <th>SepalLengthCm</th>\n",
       "      <th>SepalWidthCm</th>\n",
       "      <th>PetalLengthCm</th>\n",
       "      <th>PetalWidthCm</th>\n",
       "      <th>Species</th>\n",
       "    </tr>\n",
       "  </thead>\n",
       "  <tbody>\n",
       "    <tr>\n",
       "      <th>0</th>\n",
       "      <td>1</td>\n",
       "      <td>5.1</td>\n",
       "      <td>3.5</td>\n",
       "      <td>1.4</td>\n",
       "      <td>0.2</td>\n",
       "      <td>Iris-setosa</td>\n",
       "    </tr>\n",
       "    <tr>\n",
       "      <th>1</th>\n",
       "      <td>2</td>\n",
       "      <td>4.9</td>\n",
       "      <td>3.0</td>\n",
       "      <td>1.4</td>\n",
       "      <td>0.2</td>\n",
       "      <td>Iris-setosa</td>\n",
       "    </tr>\n",
       "    <tr>\n",
       "      <th>2</th>\n",
       "      <td>3</td>\n",
       "      <td>4.7</td>\n",
       "      <td>3.2</td>\n",
       "      <td>1.3</td>\n",
       "      <td>0.2</td>\n",
       "      <td>Iris-setosa</td>\n",
       "    </tr>\n",
       "    <tr>\n",
       "      <th>3</th>\n",
       "      <td>4</td>\n",
       "      <td>4.6</td>\n",
       "      <td>3.1</td>\n",
       "      <td>1.5</td>\n",
       "      <td>0.2</td>\n",
       "      <td>Iris-setosa</td>\n",
       "    </tr>\n",
       "    <tr>\n",
       "      <th>4</th>\n",
       "      <td>5</td>\n",
       "      <td>5.0</td>\n",
       "      <td>3.6</td>\n",
       "      <td>1.4</td>\n",
       "      <td>0.2</td>\n",
       "      <td>Iris-setosa</td>\n",
       "    </tr>\n",
       "  </tbody>\n",
       "</table>\n",
       "</div>"
      ],
      "text/plain": [
       "   Id  SepalLengthCm  SepalWidthCm  PetalLengthCm  PetalWidthCm      Species\n",
       "0   1            5.1           3.5            1.4           0.2  Iris-setosa\n",
       "1   2            4.9           3.0            1.4           0.2  Iris-setosa\n",
       "2   3            4.7           3.2            1.3           0.2  Iris-setosa\n",
       "3   4            4.6           3.1            1.5           0.2  Iris-setosa\n",
       "4   5            5.0           3.6            1.4           0.2  Iris-setosa"
      ]
     },
     "execution_count": 3,
     "metadata": {},
     "output_type": "execute_result"
    }
   ],
   "source": [
    "# read the dataset\n",
    "df = pd.read_csv('/kaggle/input/iris/Iris.csv')\n",
    "df.head()"
   ]
  },
  {
   "cell_type": "markdown",
   "metadata": {},
   "source": [
    "Before we move on to classification, let us see some basic information about our dataset."
   ]
  },
  {
   "cell_type": "code",
   "execution_count": 4,
   "metadata": {},
   "outputs": [
    {
     "data": {
      "text/plain": [
       "(150, 6)"
      ]
     },
     "execution_count": 4,
     "metadata": {},
     "output_type": "execute_result"
    }
   ],
   "source": [
    "# get the dimensions of the dataset\n",
    "df.shape"
   ]
  },
  {
   "cell_type": "code",
   "execution_count": 5,
   "metadata": {},
   "outputs": [
    {
     "data": {
      "text/plain": [
       "Id                 int64\n",
       "SepalLengthCm    float64\n",
       "SepalWidthCm     float64\n",
       "PetalLengthCm    float64\n",
       "PetalWidthCm     float64\n",
       "Species           object\n",
       "dtype: object"
      ]
     },
     "execution_count": 5,
     "metadata": {},
     "output_type": "execute_result"
    }
   ],
   "source": [
    "# find the data types of the attributes\n",
    "df.dtypes"
   ]
  },
  {
   "cell_type": "code",
   "execution_count": 7,
   "metadata": {},
   "outputs": [
    {
     "data": {
      "text/html": [
       "<div>\n",
       "<style scoped>\n",
       "    .dataframe tbody tr th:only-of-type {\n",
       "        vertical-align: middle;\n",
       "    }\n",
       "\n",
       "    .dataframe tbody tr th {\n",
       "        vertical-align: top;\n",
       "    }\n",
       "\n",
       "    .dataframe thead th {\n",
       "        text-align: right;\n",
       "    }\n",
       "</style>\n",
       "<table border=\"1\" class=\"dataframe\">\n",
       "  <thead>\n",
       "    <tr style=\"text-align: right;\">\n",
       "      <th></th>\n",
       "      <th>Id</th>\n",
       "      <th>SepalLengthCm</th>\n",
       "      <th>SepalWidthCm</th>\n",
       "      <th>PetalLengthCm</th>\n",
       "      <th>PetalWidthCm</th>\n",
       "    </tr>\n",
       "  </thead>\n",
       "  <tbody>\n",
       "    <tr>\n",
       "      <th>count</th>\n",
       "      <td>150.000000</td>\n",
       "      <td>150.000000</td>\n",
       "      <td>150.000000</td>\n",
       "      <td>150.000000</td>\n",
       "      <td>150.000000</td>\n",
       "    </tr>\n",
       "    <tr>\n",
       "      <th>mean</th>\n",
       "      <td>75.500000</td>\n",
       "      <td>5.843333</td>\n",
       "      <td>3.054000</td>\n",
       "      <td>3.758667</td>\n",
       "      <td>1.198667</td>\n",
       "    </tr>\n",
       "    <tr>\n",
       "      <th>std</th>\n",
       "      <td>43.445368</td>\n",
       "      <td>0.828066</td>\n",
       "      <td>0.433594</td>\n",
       "      <td>1.764420</td>\n",
       "      <td>0.763161</td>\n",
       "    </tr>\n",
       "    <tr>\n",
       "      <th>min</th>\n",
       "      <td>1.000000</td>\n",
       "      <td>4.300000</td>\n",
       "      <td>2.000000</td>\n",
       "      <td>1.000000</td>\n",
       "      <td>0.100000</td>\n",
       "    </tr>\n",
       "    <tr>\n",
       "      <th>25%</th>\n",
       "      <td>38.250000</td>\n",
       "      <td>5.100000</td>\n",
       "      <td>2.800000</td>\n",
       "      <td>1.600000</td>\n",
       "      <td>0.300000</td>\n",
       "    </tr>\n",
       "    <tr>\n",
       "      <th>50%</th>\n",
       "      <td>75.500000</td>\n",
       "      <td>5.800000</td>\n",
       "      <td>3.000000</td>\n",
       "      <td>4.350000</td>\n",
       "      <td>1.300000</td>\n",
       "    </tr>\n",
       "    <tr>\n",
       "      <th>75%</th>\n",
       "      <td>112.750000</td>\n",
       "      <td>6.400000</td>\n",
       "      <td>3.300000</td>\n",
       "      <td>5.100000</td>\n",
       "      <td>1.800000</td>\n",
       "    </tr>\n",
       "    <tr>\n",
       "      <th>max</th>\n",
       "      <td>150.000000</td>\n",
       "      <td>7.900000</td>\n",
       "      <td>4.400000</td>\n",
       "      <td>6.900000</td>\n",
       "      <td>2.500000</td>\n",
       "    </tr>\n",
       "  </tbody>\n",
       "</table>\n",
       "</div>"
      ],
      "text/plain": [
       "               Id  SepalLengthCm  SepalWidthCm  PetalLengthCm  PetalWidthCm\n",
       "count  150.000000     150.000000    150.000000     150.000000    150.000000\n",
       "mean    75.500000       5.843333      3.054000       3.758667      1.198667\n",
       "std     43.445368       0.828066      0.433594       1.764420      0.763161\n",
       "min      1.000000       4.300000      2.000000       1.000000      0.100000\n",
       "25%     38.250000       5.100000      2.800000       1.600000      0.300000\n",
       "50%     75.500000       5.800000      3.000000       4.350000      1.300000\n",
       "75%    112.750000       6.400000      3.300000       5.100000      1.800000\n",
       "max    150.000000       7.900000      4.400000       6.900000      2.500000"
      ]
     },
     "execution_count": 7,
     "metadata": {},
     "output_type": "execute_result"
    }
   ],
   "source": [
    "# concise summary of the data\n",
    "df.describe()"
   ]
  },
  {
   "cell_type": "code",
   "execution_count": 8,
   "metadata": {},
   "outputs": [
    {
     "data": {
      "text/plain": [
       "Id               0\n",
       "SepalLengthCm    0\n",
       "SepalWidthCm     0\n",
       "PetalLengthCm    0\n",
       "PetalWidthCm     0\n",
       "Species          0\n",
       "dtype: int64"
      ]
     },
     "execution_count": 8,
     "metadata": {},
     "output_type": "execute_result"
    }
   ],
   "source": [
    "# find if missing values is present\n",
    "df.isnull().sum()"
   ]
  },
  {
   "cell_type": "markdown",
   "metadata": {},
   "source": [
    "No missing values- our dataset is clean"
   ]
  },
  {
   "cell_type": "code",
   "execution_count": 9,
   "metadata": {},
   "outputs": [
    {
     "data": {
      "text/plain": [
       "<matplotlib.axes._subplots.AxesSubplot at 0x7f7b1ce720b8>"
      ]
     },
     "execution_count": 9,
     "metadata": {},
     "output_type": "execute_result"
    },
    {
     "data": {
      "image/png": "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\n",
      "text/plain": [
       "<Figure size 432x288 with 1 Axes>"
      ]
     },
     "metadata": {
      "needs_background": "light"
     },
     "output_type": "display_data"
    }
   ],
   "source": [
    "# get the distribution of the target variable\n",
    "sns.countplot(x=\"Species\", data = df)"
   ]
  },
  {
   "cell_type": "markdown",
   "metadata": {},
   "source": [
    "All the species have equal division which is good since all features will have equal influence on predciting the species."
   ]
  },
  {
   "cell_type": "code",
   "execution_count": 10,
   "metadata": {},
   "outputs": [],
   "source": [
    "# Separate the dependent and independent features\n",
    "X = df[['SepalLengthCm','SepalWidthCm','PetalLengthCm','PetalWidthCm']]\n",
    "y = df['Species']"
   ]
  },
  {
   "cell_type": "code",
   "execution_count": 15,
   "metadata": {},
   "outputs": [],
   "source": [
    "# Standardize the data and then concatenate it with y\n",
    "data = X\n",
    "data_std = (data - data.mean())/(data.max() - data.min())\n",
    "data = pd.concat([data_std,y], axis=1)"
   ]
  },
  {
   "cell_type": "code",
   "execution_count": 16,
   "metadata": {},
   "outputs": [
    {
     "data": {
      "text/html": [
       "<div>\n",
       "<style scoped>\n",
       "    .dataframe tbody tr th:only-of-type {\n",
       "        vertical-align: middle;\n",
       "    }\n",
       "\n",
       "    .dataframe tbody tr th {\n",
       "        vertical-align: top;\n",
       "    }\n",
       "\n",
       "    .dataframe thead th {\n",
       "        text-align: right;\n",
       "    }\n",
       "</style>\n",
       "<table border=\"1\" class=\"dataframe\">\n",
       "  <thead>\n",
       "    <tr style=\"text-align: right;\">\n",
       "      <th></th>\n",
       "      <th>Species</th>\n",
       "      <th>features</th>\n",
       "      <th>value</th>\n",
       "    </tr>\n",
       "  </thead>\n",
       "  <tbody>\n",
       "    <tr>\n",
       "      <th>0</th>\n",
       "      <td>Iris-setosa</td>\n",
       "      <td>SepalLengthCm</td>\n",
       "      <td>-0.206481</td>\n",
       "    </tr>\n",
       "    <tr>\n",
       "      <th>1</th>\n",
       "      <td>Iris-setosa</td>\n",
       "      <td>SepalLengthCm</td>\n",
       "      <td>-0.262037</td>\n",
       "    </tr>\n",
       "    <tr>\n",
       "      <th>2</th>\n",
       "      <td>Iris-setosa</td>\n",
       "      <td>SepalLengthCm</td>\n",
       "      <td>-0.317593</td>\n",
       "    </tr>\n",
       "    <tr>\n",
       "      <th>3</th>\n",
       "      <td>Iris-setosa</td>\n",
       "      <td>SepalLengthCm</td>\n",
       "      <td>-0.345370</td>\n",
       "    </tr>\n",
       "    <tr>\n",
       "      <th>4</th>\n",
       "      <td>Iris-setosa</td>\n",
       "      <td>SepalLengthCm</td>\n",
       "      <td>-0.234259</td>\n",
       "    </tr>\n",
       "    <tr>\n",
       "      <th>...</th>\n",
       "      <td>...</td>\n",
       "      <td>...</td>\n",
       "      <td>...</td>\n",
       "    </tr>\n",
       "    <tr>\n",
       "      <th>595</th>\n",
       "      <td>Iris-virginica</td>\n",
       "      <td>PetalWidthCm</td>\n",
       "      <td>0.458889</td>\n",
       "    </tr>\n",
       "    <tr>\n",
       "      <th>596</th>\n",
       "      <td>Iris-virginica</td>\n",
       "      <td>PetalWidthCm</td>\n",
       "      <td>0.292222</td>\n",
       "    </tr>\n",
       "    <tr>\n",
       "      <th>597</th>\n",
       "      <td>Iris-virginica</td>\n",
       "      <td>PetalWidthCm</td>\n",
       "      <td>0.333889</td>\n",
       "    </tr>\n",
       "    <tr>\n",
       "      <th>598</th>\n",
       "      <td>Iris-virginica</td>\n",
       "      <td>PetalWidthCm</td>\n",
       "      <td>0.458889</td>\n",
       "    </tr>\n",
       "    <tr>\n",
       "      <th>599</th>\n",
       "      <td>Iris-virginica</td>\n",
       "      <td>PetalWidthCm</td>\n",
       "      <td>0.250556</td>\n",
       "    </tr>\n",
       "  </tbody>\n",
       "</table>\n",
       "<p>600 rows × 3 columns</p>\n",
       "</div>"
      ],
      "text/plain": [
       "            Species       features     value\n",
       "0       Iris-setosa  SepalLengthCm -0.206481\n",
       "1       Iris-setosa  SepalLengthCm -0.262037\n",
       "2       Iris-setosa  SepalLengthCm -0.317593\n",
       "3       Iris-setosa  SepalLengthCm -0.345370\n",
       "4       Iris-setosa  SepalLengthCm -0.234259\n",
       "..              ...            ...       ...\n",
       "595  Iris-virginica   PetalWidthCm  0.458889\n",
       "596  Iris-virginica   PetalWidthCm  0.292222\n",
       "597  Iris-virginica   PetalWidthCm  0.333889\n",
       "598  Iris-virginica   PetalWidthCm  0.458889\n",
       "599  Iris-virginica   PetalWidthCm  0.250556\n",
       "\n",
       "[600 rows x 3 columns]"
      ]
     },
     "execution_count": 16,
     "metadata": {},
     "output_type": "execute_result"
    }
   ],
   "source": [
    "# reshape the dataframe using melt()\n",
    "data = pd.melt(data, id_vars = 'Species', var_name = 'features',value_name = 'value')\n",
    "data"
   ]
  },
  {
   "cell_type": "markdown",
   "metadata": {},
   "source": [
    "By reshaping our data using melt(), we have converted it into a more computer friendly form, where initially we had more than one identifier features. Now, all of them have been packed into one feature which will help us in visualisation.\n"
   ]
  },
  {
   "cell_type": "code",
   "execution_count": 17,
   "metadata": {},
   "outputs": [
    {
     "data": {
      "image/png": "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\n",
      "text/plain": [
       "<Figure size 432x432 with 1 Axes>"
      ]
     },
     "metadata": {
      "needs_background": "light"
     },
     "output_type": "display_data"
    }
   ],
   "source": [
    "# swarmplot for analysing the different attributes\n",
    "plt.figure(figsize = (6,6))\n",
    "sns.swarmplot(x = 'features', y = 'value', hue = 'Species', data = data)\n",
    "plt.show()"
   ]
  },
  {
   "cell_type": "markdown",
   "metadata": {},
   "source": [
    "It is clear from the plot that Petal Length and Petal Width provide very clear distinctions between the different classes whereas the same cannot be said for Sepal Length and Sepal Width "
   ]
  },
  {
   "cell_type": "code",
   "execution_count": 18,
   "metadata": {},
   "outputs": [
    {
     "data": {
      "text/plain": [
       "<matplotlib.axes._subplots.AxesSubplot at 0x7f7b11ee98d0>"
      ]
     },
     "execution_count": 18,
     "metadata": {},
     "output_type": "execute_result"
    },
    {
     "data": {
      "image/png": "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\n",
      "text/plain": [
       "<Figure size 432x288 with 2 Axes>"
      ]
     },
     "metadata": {
      "needs_background": "light"
     },
     "output_type": "display_data"
    }
   ],
   "source": [
    "# obtain a correlation heatmap\n",
    "sns.heatmap(X.corr(), annot=True)"
   ]
  },
  {
   "cell_type": "markdown",
   "metadata": {},
   "source": [
    "# Feature Selection"
   ]
  },
  {
   "cell_type": "markdown",
   "metadata": {},
   "source": [
    "Feature Selection is a techinque of finding out the features that contribute the most to our model i.e. the best predictors."
   ]
  },
  {
   "cell_type": "code",
   "execution_count": 19,
   "metadata": {},
   "outputs": [
    {
     "name": "stdout",
     "output_type": "stream",
     "text": [
      "Training set shape:  (112, 4) (112,)\n",
      "Testing set shape:  (38, 4) (38,)\n"
     ]
    }
   ],
   "source": [
    "# split the dataset into train and test sets\n",
    "from sklearn.model_selection import train_test_split\n",
    "X_train, X_test, y_train, y_test = train_test_split(X, y, random_state = 0)\n",
    "print('Training set shape: ', X_train.shape, y_train.shape)\n",
    "print('Testing set shape: ', X_test.shape, y_test.shape)"
   ]
  },
  {
   "cell_type": "code",
   "execution_count": 20,
   "metadata": {},
   "outputs": [],
   "source": [
    "from sklearn.feature_selection import chi2, SelectKBest, f_classif"
   ]
  },
  {
   "cell_type": "code",
   "execution_count": 27,
   "metadata": {},
   "outputs": [
    {
     "name": "stdout",
     "output_type": "stream",
     "text": [
      "Score:  [ 9.17942135  2.38729628 89.33693113 51.91944934]\n",
      "Columns:  Index(['SepalLengthCm', 'SepalWidthCm', 'PetalLengthCm', 'PetalWidthCm'], dtype='object')\n"
     ]
    }
   ],
   "source": [
    "# Get the two best(k = 2) features using the SelectKBest method\n",
    "ft = SelectKBest(chi2, k = 2).fit(X_train, y_train)\n",
    "print('Score: ', ft.scores_)\n",
    "print('Columns: ', X_train.columns)"
   ]
  },
  {
   "cell_type": "code",
   "execution_count": 26,
   "metadata": {},
   "outputs": [
    {
     "name": "stdout",
     "output_type": "stream",
     "text": [
      "Score:  [ 97.40415147  28.70153517 890.49613042 763.18137566]\n",
      "Columns:  Index(['SepalLengthCm', 'SepalWidthCm', 'PetalLengthCm', 'PetalWidthCm'], dtype='object')\n"
     ]
    }
   ],
   "source": [
    "ft = SelectKBest(f_classif, k= 2).fit(X_train, y_train)\n",
    "print('Score: ', ft.scores_)\n",
    "print('Columns: ', X_train.columns)"
   ]
  },
  {
   "cell_type": "markdown",
   "metadata": {},
   "source": [
    "We can now confirm our results and use only Petal Length and Petal Width for prediction"
   ]
  },
  {
   "cell_type": "markdown",
   "metadata": {},
   "source": [
    "# Preprocessing"
   ]
  },
  {
   "cell_type": "code",
   "execution_count": 28,
   "metadata": {},
   "outputs": [],
   "source": [
    "X_train_2 = ft.transform(X_train)\n",
    "X_test_2 = ft.transform(X_test)"
   ]
  },
  {
   "cell_type": "code",
   "execution_count": 29,
   "metadata": {},
   "outputs": [],
   "source": [
    "from sklearn import preprocessing\n",
    "X_train = preprocessing.StandardScaler().fit(X_train_2).transform(X_train_2.astype(float))\n",
    "X_test = preprocessing.StandardScaler().fit(X_test_2).transform(X_test_2.astype(float))"
   ]
  },
  {
   "cell_type": "markdown",
   "metadata": {},
   "source": [
    "# k-Nearest Neighbors"
   ]
  },
  {
   "cell_type": "markdown",
   "metadata": {},
   "source": [
    "k- Nearest Neighbors is one of the most basic algorithms used in supervised machine learning. It classifies new data points based on similarity index which is usually a distance metric. It uses a majority vote will classifying the new data. For example, if there are 3 blue dots and 1 dot near the new data point, it will classify it as a blue dot."
   ]
  },
  {
   "cell_type": "code",
   "execution_count": 30,
   "metadata": {},
   "outputs": [
    {
     "data": {
      "text/plain": [
       "KNeighborsClassifier(algorithm='auto', leaf_size=30, metric='minkowski',\n",
       "                     metric_params=None, n_jobs=None, n_neighbors=5, p=2,\n",
       "                     weights='uniform')"
      ]
     },
     "execution_count": 30,
     "metadata": {},
     "output_type": "execute_result"
    }
   ],
   "source": [
    "from sklearn.neighbors import KNeighborsClassifier\n",
    "knn = KNeighborsClassifier()\n",
    "knn"
   ]
  },
  {
   "cell_type": "code",
   "execution_count": 31,
   "metadata": {},
   "outputs": [],
   "source": [
    "from sklearn import metrics"
   ]
  },
  {
   "cell_type": "markdown",
   "metadata": {},
   "source": [
    "One of the challenges in a k-NN algorithm is finding the best 'k' i.e. the number of neighbors to be used in the majority vote while deciding the class. Generally, it is advisable to test the accuracy of your model for different values of k and then select the best one from them."
   ]
  },
  {
   "cell_type": "code",
   "execution_count": 32,
   "metadata": {},
   "outputs": [
    {
     "data": {
      "text/plain": [
       "array([0.94736842, 0.94736842, 0.94736842, 0.97368421, 0.97368421,\n",
       "       0.97368421, 0.97368421, 0.97368421, 0.97368421, 0.97368421,\n",
       "       0.97368421, 0.97368421, 0.97368421, 0.97368421, 0.97368421,\n",
       "       0.97368421, 0.94736842, 0.97368421, 0.94736842, 0.94736842])"
      ]
     },
     "execution_count": 32,
     "metadata": {},
     "output_type": "execute_result"
    }
   ],
   "source": [
    "# calculating the accuracy of models with different values of k\n",
    "mean_acc = np.zeros(20)\n",
    "for i in range(1,21):\n",
    "    #Train Model and Predict  \n",
    "    knn = KNeighborsClassifier(n_neighbors = i).fit(X_train,y_train)\n",
    "    yhat= knn.predict(X_test)\n",
    "    mean_acc[i-1] = metrics.accuracy_score(y_test, yhat)\n",
    "\n",
    "mean_acc"
   ]
  },
  {
   "cell_type": "code",
   "execution_count": 35,
   "metadata": {},
   "outputs": [
    {
     "data": {
      "image/png": "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\n",
      "text/plain": [
       "<Figure size 720x432 with 1 Axes>"
      ]
     },
     "metadata": {
      "needs_background": "light"
     },
     "output_type": "display_data"
    }
   ],
   "source": [
    "loc = np.arange(1,21,step=1.0)\n",
    "plt.figure(figsize = (10, 6))\n",
    "plt.plot(range(1,21), mean_acc)\n",
    "plt.xticks(loc)\n",
    "plt.xlabel('Number of Neighbors ')\n",
    "plt.ylabel('Accuracy')\n",
    "plt.show()"
   ]
  },
  {
   "cell_type": "markdown",
   "metadata": {},
   "source": [
    "There are a range of values from 5 to 16 where the accuracy is the highest."
   ]
  },
  {
   "cell_type": "markdown",
   "metadata": {},
   "source": [
    "# Hyperparameter Tuning"
   ]
  },
  {
   "cell_type": "markdown",
   "metadata": {},
   "source": [
    "A hyperparameter is a parameter of the model that is set before the start of learning process. Different machine learning models have different hyperparameters. You can find out more about the different hyperparameters of k-NN <a href =  'https://scikit-learn.org/stable/modules/generated/sklearn.neighbors.KNeighborsClassifier.html'>here</a>."
   ]
  },
  {
   "cell_type": "markdown",
   "metadata": {},
   "source": [
    "We will use the Exhaustive Grid Search technique for hyperparameter optimization. An exhaustive grid search takes in as many hyperparameters as you would like, and tries every single possible combination of the hyperparameters as well as as many cross-validations as you would like it to perform. An exhaustive grid search is a good way to determine the best hyperparameter values to use, but it can quickly become time consuming with every additional parameter value and cross-validation that you add."
   ]
  },
  {
   "cell_type": "code",
   "execution_count": 38,
   "metadata": {},
   "outputs": [],
   "source": [
    "from sklearn.model_selection import GridSearchCV"
   ]
  },
  {
   "cell_type": "markdown",
   "metadata": {},
   "source": [
    "We will use three hyperparamters- n-neighbors, weights and metric.\n",
    "1. n_neighbors: Decide the best k based on the values we have computed earlier.\n",
    "2. weights: Check whether adding weights to the data points is beneficial to the model or not. 'uniform' assigns no weight, while 'distance' weighs points by the inverse of their distances meaning nearer points will have more weight than the farther points.\n",
    "3. metric: The distance metric to be used will calculating the similarity."
   ]
  },
  {
   "cell_type": "code",
   "execution_count": 39,
   "metadata": {},
   "outputs": [],
   "source": [
    "grid_params = { 'n_neighbors' : [5,7,9,11,13,15],\n",
    "               'weights' : ['uniform','distance'],\n",
    "               'metric' : ['minkowski','euclidean','manhattan']}"
   ]
  },
  {
   "cell_type": "code",
   "execution_count": 40,
   "metadata": {},
   "outputs": [],
   "source": [
    "gs = GridSearchCV(KNeighborsClassifier(), grid_params, verbose = 1, cv=3, n_jobs = -1)"
   ]
  },
  {
   "cell_type": "markdown",
   "metadata": {},
   "source": [
    "Since we have provided the class validation score as 3( cv= 3), Grid Search will evaluate the model 6 x 2 x 3 x 3 = 108 times with different hyperparameters."
   ]
  },
  {
   "cell_type": "code",
   "execution_count": 41,
   "metadata": {},
   "outputs": [
    {
     "name": "stdout",
     "output_type": "stream",
     "text": [
      "Fitting 3 folds for each of 36 candidates, totalling 108 fits\n"
     ]
    },
    {
     "name": "stderr",
     "output_type": "stream",
     "text": [
      "[Parallel(n_jobs=-1)]: Using backend LokyBackend with 4 concurrent workers.\n",
      "[Parallel(n_jobs=-1)]: Done 108 out of 108 | elapsed:    1.8s finished\n"
     ]
    }
   ],
   "source": [
    "# fit the model on our train set\n",
    "g_res = gs.fit(X_train, y_train)"
   ]
  },
  {
   "cell_type": "code",
   "execution_count": 42,
   "metadata": {},
   "outputs": [
    {
     "data": {
      "text/plain": [
       "0.9556661925082978"
      ]
     },
     "execution_count": 42,
     "metadata": {},
     "output_type": "execute_result"
    }
   ],
   "source": [
    "# find the best score\n",
    "g_res.best_score_"
   ]
  },
  {
   "cell_type": "code",
   "execution_count": 44,
   "metadata": {},
   "outputs": [
    {
     "data": {
      "text/plain": [
       "{'metric': 'minkowski', 'n_neighbors': 5, 'weights': 'uniform'}"
      ]
     },
     "execution_count": 44,
     "metadata": {},
     "output_type": "execute_result"
    }
   ],
   "source": [
    "# get the hyperparameters with the best score\n",
    "g_res.best_params_"
   ]
  },
  {
   "cell_type": "code",
   "execution_count": 45,
   "metadata": {},
   "outputs": [
    {
     "data": {
      "text/plain": [
       "KNeighborsClassifier(algorithm='brute', leaf_size=30, metric='minkowski',\n",
       "                     metric_params=None, n_jobs=None, n_neighbors=5, p=2,\n",
       "                     weights='uniform')"
      ]
     },
     "execution_count": 45,
     "metadata": {},
     "output_type": "execute_result"
    }
   ],
   "source": [
    "# use the best hyperparameters\n",
    "knn = KNeighborsClassifier(n_neighbors = 5, weights = 'uniform',algorithm = 'brute',metric = 'minkowski')\n",
    "knn.fit(X_train, y_train)"
   ]
  },
  {
   "cell_type": "code",
   "execution_count": 46,
   "metadata": {},
   "outputs": [],
   "source": [
    "# get a prediction\n",
    "y_hat = knn.predict(X_train)\n",
    "y_knn = knn.predict(X_test)"
   ]
  },
  {
   "cell_type": "markdown",
   "metadata": {},
   "source": [
    "# Model Evaluation"
   ]
  },
  {
   "cell_type": "code",
   "execution_count": 47,
   "metadata": {},
   "outputs": [
    {
     "name": "stdout",
     "output_type": "stream",
     "text": [
      "Training set accuracy:  0.9553571428571429\n",
      "Test set accuracy:  0.9736842105263158\n"
     ]
    }
   ],
   "source": [
    "print('Training set accuracy: ', metrics.accuracy_score(y_train, y_hat))\n",
    "print('Test set accuracy: ',metrics.accuracy_score(y_test, y_knn))"
   ]
  },
  {
   "cell_type": "code",
   "execution_count": 48,
   "metadata": {},
   "outputs": [
    {
     "name": "stdout",
     "output_type": "stream",
     "text": [
      "[[13  0  0]\n",
      " [ 0 15  1]\n",
      " [ 0  0  9]]\n"
     ]
    }
   ],
   "source": [
    "from sklearn.metrics import confusion_matrix\n",
    "print(confusion_matrix(y_test, y_knn))"
   ]
  },
  {
   "cell_type": "code",
   "execution_count": 49,
   "metadata": {},
   "outputs": [
    {
     "name": "stdout",
     "output_type": "stream",
     "text": [
      "                 precision    recall  f1-score   support\n",
      "\n",
      "    Iris-setosa       1.00      1.00      1.00        13\n",
      "Iris-versicolor       1.00      0.94      0.97        16\n",
      " Iris-virginica       0.90      1.00      0.95         9\n",
      "\n",
      "       accuracy                           0.97        38\n",
      "      macro avg       0.97      0.98      0.97        38\n",
      "   weighted avg       0.98      0.97      0.97        38\n",
      "\n"
     ]
    }
   ],
   "source": [
    "from sklearn.metrics import classification_report\n",
    "print(classification_report(y_test, y_knn))"
   ]
  },
  {
   "cell_type": "code",
   "execution_count": 53,
   "metadata": {},
   "outputs": [],
   "source": [
    "from sklearn.model_selection import cross_val_score\n",
    "scores = cross_val_score(knn, X, y, cv =5)"
   ]
  },
  {
   "cell_type": "code",
   "execution_count": 52,
   "metadata": {},
   "outputs": [
    {
     "name": "stdout",
     "output_type": "stream",
     "text": [
      "Model accuracy:  0.9733333333333334\n"
     ]
    }
   ],
   "source": [
    "print('Model accuracy: ',np.mean(scores))"
   ]
  },
  {
   "cell_type": "markdown",
   "metadata": {},
   "source": [
    "As we see, we have obtained a very high model accuracy of 0.97. It is possible that the accuracy may be increased further by using more hyperparameters or with a different model."
   ]
  },
  {
   "cell_type": "code",
   "execution_count": null,
   "metadata": {},
   "outputs": [],
   "source": []
  }
 ],
 "metadata": {
  "kernelspec": {
   "display_name": "Python 3 (ipykernel)",
   "language": "python",
   "name": "python3"
  },
  "language_info": {
   "codemirror_mode": {
    "name": "ipython",
    "version": 3
   },
   "file_extension": ".py",
   "mimetype": "text/x-python",
   "name": "python",
   "nbconvert_exporter": "python",
   "pygments_lexer": "ipython3",
   "version": "3.9.7"
  }
 },
 "nbformat": 4,
 "nbformat_minor": 4
}
